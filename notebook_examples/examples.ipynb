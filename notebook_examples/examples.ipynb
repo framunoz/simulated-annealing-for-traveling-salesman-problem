{
 "cells": [
  {
   "cell_type": "markdown",
   "metadata": {
    "pycharm": {
     "name": "#%% md\n"
    }
   },
   "source": [
    "# Fitting a simple model\n",
    "\n",
    "This is a notebook to exemplify the use of the `tsp.sa.SimulatedAnnealingTSP` class. This class uses a Markov Chain Monte Carlo (MCMC) type algorithm called Simulated Annealing (SA) to estimate the optimal route in the Traveling Salesman Problem (TSP).\n",
    "\n",
    "To exemplify the use of this class, we will start by generating a toy dataset."
   ]
  },
  {
   "cell_type": "code",
   "execution_count": null,
   "metadata": {
    "pycharm": {
     "name": "#%%\n"
    }
   },
   "outputs": [],
   "source": [
    "import numpy as np\n",
    "\n",
    "from tsp.utils import sample_coordinates, plot_route\n",
    "\n",
    "rng = np.random.default_rng(99301023485)\n",
    "\n",
    "coords = sample_coordinates(25, seed=rng)\n",
    "\n",
    "plot_route(coords)"
   ]
  },
  {
   "cell_type": "markdown",
   "metadata": {
    "pycharm": {
     "name": "#%% md\n"
    }
   },
   "source": [
    "From these coordinates, the associated distance matrix is"
   ]
  },
  {
   "cell_type": "code",
   "execution_count": null,
   "metadata": {
    "pycharm": {
     "name": "#%%\n"
    }
   },
   "outputs": [],
   "source": [
    "from tsp.utils import distance_matrix\n",
    "\n",
    "dist_matrix = distance_matrix(coords)\n",
    "dist_matrix.shape"
   ]
  },
  {
   "cell_type": "markdown",
   "metadata": {
    "pycharm": {
     "name": "#%% md\n"
    }
   },
   "source": [
    "An instance of the `SimulatedAnnealingTSP` class shall now be created. This class implements the SA algorithm applied specifically to the TSP. To create an instance of this class, it is sufficient to provide the matrix of distances between the routes."
   ]
  },
  {
   "cell_type": "code",
   "execution_count": null,
   "metadata": {
    "pycharm": {
     "name": "#%%\n"
    }
   },
   "outputs": [],
   "source": [
    "from tsp import SimulatedAnnealingTSP\n",
    "\n",
    "model_sa = SimulatedAnnealingTSP(\n",
    "    dist_matrix,\n",
    "    seed=rng,\n",
    ")"
   ]
  },
  {
   "cell_type": "markdown",
   "metadata": {
    "pycharm": {
     "name": "#%% md\n"
    }
   },
   "source": [
    "And the model will be run to find the optimal route. By default, the model is limited to 1,000,000 iterations, but will stop early if no changes have been accepted after 10,000 iterations."
   ]
  },
  {
   "cell_type": "code",
   "execution_count": null,
   "metadata": {
    "pycharm": {
     "name": "#%%\n"
    }
   },
   "outputs": [],
   "source": [
    "%%time\n",
    "model_sa.run()"
   ]
  },
  {
   "cell_type": "markdown",
   "metadata": {
    "pycharm": {
     "name": "#%% md\n"
    }
   },
   "source": [
    "Through the `best_value` and `best_route` properties, the best value and associated best route of the algorithm can be found."
   ]
  },
  {
   "cell_type": "code",
   "execution_count": null,
   "metadata": {
    "pycharm": {
     "name": "#%%\n"
    }
   },
   "outputs": [],
   "source": [
    "model_sa.best_value"
   ]
  },
  {
   "cell_type": "markdown",
   "metadata": {
    "pycharm": {
     "name": "#%% md\n"
    }
   },
   "source": [
    "In the next cell you can see the optimal route of the algorithm plotted."
   ]
  },
  {
   "cell_type": "code",
   "execution_count": null,
   "metadata": {
    "pycharm": {
     "name": "#%%\n"
    }
   },
   "outputs": [],
   "source": [
    "plot_route(coords, route=model_sa.best_route)"
   ]
  },
  {
   "cell_type": "markdown",
   "metadata": {
    "pycharm": {
     "name": "#%% md\n"
    }
   },
   "source": [
    "And you can also see a summary of how the algorithm performed over the iterations."
   ]
  },
  {
   "cell_type": "code",
   "execution_count": null,
   "metadata": {
    "pycharm": {
     "name": "#%%\n"
    }
   },
   "outputs": [],
   "source": [
    "from tsp.sa import plot_summary_sa\n",
    "\n",
    "plot_summary_sa(model_sa)"
   ]
  },
  {
   "cell_type": "markdown",
   "metadata": {
    "pycharm": {
     "name": "#%% md\n"
    }
   },
   "source": [
    "Notice that the route can be improved, and this is because by default, the algorithm uses a kernel that performs a swap between two cities in the route. The next section will show how to improve the performance of the algorithm by changing the kernel."
   ]
  },
  {
   "cell_type": "markdown",
   "metadata": {
    "pycharm": {
     "name": "#%% md\n"
    }
   },
   "source": [
    "# Tuning the parameters"
   ]
  },
  {
   "cell_type": "markdown",
   "metadata": {
    "pycharm": {
     "name": "#%% md\n"
    }
   },
   "source": [
    "The performance of the algorithm can be improved by modifying some parameters of the class. Let's start by talking about the *kernels*: the kernels in the algorithm allow to decide the way in which a \"jump\" will be made in the graph in which the SA is performed. Or in simpler words, it allows to decide how a modification of the previous route will be made, which will be the next candidate in the SA.\n",
    "\n",
    "The available kernels can be found in the `tsp.kernels` module, where there is also the possibility of mixing between several kernels through the `MixingKernelTSP`, where there is also the possibility to choose the weights assigned to each kernel. An example of the use of this class can be seen below:"
   ]
  },
  {
   "cell_type": "code",
   "execution_count": null,
   "metadata": {
    "pycharm": {
     "name": "#%%\n"
    }
   },
   "outputs": [],
   "source": [
    "from tsp.kernels import *\n",
    "\n",
    "mixing_kernel = MixingKernelTSP(\n",
    "    kernels=[\n",
    "        (  20, SwapKernelTSP(rng)),\n",
    "        (  50, ReversionKernelTSP(rng)),\n",
    "        (  30, InsertionKernelTSP(rng)),\n",
    "        (0.05, RandomWalkKernelTSP(rng)),\n",
    "    ],\n",
    "    seed=rng,\n",
    ")"
   ]
  },
  {
   "cell_type": "markdown",
   "metadata": {
    "pycharm": {
     "name": "#%% md\n"
    }
   },
   "source": [
    "And you can use this kernel in the `SimulatedAnnealingTSP` class. Additionally, you can provide a cooling schedule function, or instantiate existing functions in `tsp.utils`, by modifying the initial parameters. Further information can be found in the `SimulatedAnnealingTSP` documentation."
   ]
  },
  {
   "cell_type": "code",
   "execution_count": null,
   "metadata": {
    "pycharm": {
     "name": "#%%\n"
    }
   },
   "outputs": [],
   "source": [
    "from tsp.utils import exponential_cooling_schedule\n",
    "\n",
    "\n",
    "model_sa = SimulatedAnnealingTSP(\n",
    "    dist_matrix,\n",
    "    n_iter=10_000_000,\n",
    "    kernel=mixing_kernel,\n",
    "    cooling_schedule=exponential_cooling_schedule(rho=0.999),\n",
    "    early_stop=True,\n",
    "    stop_after=10_000,\n",
    "    seed=rng,\n",
    ")"
   ]
  },
  {
   "cell_type": "markdown",
   "metadata": {
    "pycharm": {
     "name": "#%% md\n"
    }
   },
   "source": [
    "We run the model..."
   ]
  },
  {
   "cell_type": "code",
   "execution_count": null,
   "metadata": {
    "pycharm": {
     "name": "#%%\n"
    }
   },
   "outputs": [],
   "source": [
    "%%time\n",
    "model_sa.run()"
   ]
  },
  {
   "cell_type": "markdown",
   "metadata": {
    "pycharm": {
     "name": "#%% md\n"
    }
   },
   "source": [
    "And we look at the best value that optimisation provides:"
   ]
  },
  {
   "cell_type": "code",
   "execution_count": null,
   "metadata": {
    "pycharm": {
     "name": "#%%\n"
    }
   },
   "outputs": [],
   "source": [
    "model_sa.best_value"
   ]
  },
  {
   "cell_type": "markdown",
   "metadata": {
    "pycharm": {
     "name": "#%% md\n"
    }
   },
   "source": [
    "It can be noted that the value of the total distance that the route realised is significantly better than in the previous case. If we look at the map, we can see that the solution looks better than the previous solution."
   ]
  },
  {
   "cell_type": "code",
   "execution_count": null,
   "metadata": {
    "pycharm": {
     "name": "#%%\n"
    }
   },
   "outputs": [],
   "source": [
    "plot_route(coords, route=model_sa.best_route)"
   ]
  },
  {
   "cell_type": "code",
   "execution_count": null,
   "metadata": {
    "pycharm": {
     "name": "#%%\n"
    }
   },
   "outputs": [],
   "source": [
    "plot_summary_sa(model_sa)"
   ]
  }
 ],
 "metadata": {
  "kernelspec": {
   "display_name": "Python 3",
   "language": "python",
   "name": "python3"
  },
  "language_info": {
   "codemirror_mode": {
    "name": "ipython",
    "version": 2
   },
   "file_extension": ".py",
   "mimetype": "text/x-python",
   "name": "python",
   "nbconvert_exporter": "python",
   "pygments_lexer": "ipython2",
   "version": "2.7.6"
  }
 },
 "nbformat": 4,
 "nbformat_minor": 0
}
